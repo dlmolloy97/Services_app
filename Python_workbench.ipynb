{
 "cells": [
  {
   "cell_type": "code",
   "execution_count": 22,
   "id": "ruled-hearts",
   "metadata": {},
   "outputs": [
    {
     "data": {
      "text/html": [
       "<div>\n",
       "<style scoped>\n",
       "    .dataframe tbody tr th:only-of-type {\n",
       "        vertical-align: middle;\n",
       "    }\n",
       "\n",
       "    .dataframe tbody tr th {\n",
       "        vertical-align: top;\n",
       "    }\n",
       "\n",
       "    .dataframe thead th {\n",
       "        text-align: right;\n",
       "    }\n",
       "</style>\n",
       "<table border=\"1\" class=\"dataframe\">\n",
       "  <thead>\n",
       "    <tr style=\"text-align: right;\">\n",
       "      <th></th>\n",
       "      <th>date</th>\n",
       "    </tr>\n",
       "  </thead>\n",
       "  <tbody>\n",
       "    <tr>\n",
       "      <th>0</th>\n",
       "      <td>2020-12-30</td>\n",
       "    </tr>\n",
       "    <tr>\n",
       "      <th>1</th>\n",
       "      <td>2021-01-21</td>\n",
       "    </tr>\n",
       "    <tr>\n",
       "      <th>2</th>\n",
       "      <td>2020-12-24</td>\n",
       "    </tr>\n",
       "    <tr>\n",
       "      <th>3</th>\n",
       "      <td>2021-01-18</td>\n",
       "    </tr>\n",
       "    <tr>\n",
       "      <th>4</th>\n",
       "      <td>2021-01-23</td>\n",
       "    </tr>\n",
       "  </tbody>\n",
       "</table>\n",
       "</div>"
      ],
      "text/plain": [
       "         date\n",
       "0  2020-12-30\n",
       "1  2021-01-21\n",
       "2  2020-12-24\n",
       "3  2021-01-18\n",
       "4  2021-01-23"
      ]
     },
     "execution_count": 22,
     "metadata": {},
     "output_type": "execute_result"
    }
   ],
   "source": [
    "import pandas as pd\n",
    "import numpy as np\n",
    "from sqlalchemy import create_engine\n",
    "alchemyEngine=create_engine('postgresql://desmondmolloy:@127.0.0.1', pool_recycle=3600);\n",
    "dbConnection=alchemyEngine.connect()\n",
    "df=pd.read_sql(\"SELECT SUM(daily_vaccinations_per_million) AS vaccinations, country FROM vaccine WHERE daily_vaccinations_per_million IS NOT NULL GROUP BY country ORDER BY vaccinations DESC;\", dbConnection)\n",
    "secondf=pd.read_sql(\"WITH best_table AS (SELECT daily_vaccinations, country, date, ROW_NUMBER() OVER(PARTITION BY country ORDER BY country,daily_vaccinations DESC) AS RowNumber FROM vaccine WHERE \\\"daily_vaccinations\\\" IS NOT NULL)\\\n",
    "select CAST(date AS VARCHAR) from  best_table where RowNumber=1;\", dbConnection)\n",
    "myjsobject=\"export var country={}; export var vaccines={}; export var dates={};\".format(list(df['country']),list(df['vaccinations']),list(secondf['date']))\n",
    "dest_file='/Users/desmondmolloy/Downloads/Repositories/example-react-app/src/data/test_content.js'\n",
    "text_file = open(dest_file, \"wt\")\n",
    "n = text_file.write(myjsobject)\n",
    "text_file.close()\n",
    "secondf.head()"
   ]
  },
  {
   "cell_type": "code",
   "execution_count": null,
   "id": "ecological-fishing",
   "metadata": {},
   "outputs": [],
   "source": [
    "df.columns = [\"y\", \"label\"]\n",
    "ajson=df.to_json(orient='records')\n",
    "import json\n",
    "with open('/Users/desmondmolloy/Desktop/Codecademy_bench/src/data/response_time.json', 'w') as outfile:\n",
    "    json.dump(ajson, outfile)\n",
    "#allowed values are: {‘split’, ‘records’, ‘index’, ‘table’}.\n",
    "ajson\n",
    "myjsobject=\"export var newData={}\".format(ajson)\n",
    "dest_file='/Users/desmondmolloy/Desktop/Codecademy_bench/src/data/test.js'\n",
    "text_file = open(dest_file, \"wt\")\n",
    "n = text_file.write(myjsobject)\n",
    "text_file.close()"
   ]
  },
  {
   "cell_type": "code",
   "execution_count": 1,
   "id": "immune-halloween",
   "metadata": {},
   "outputs": [],
   "source": [
    "def column_outwriter(df):\n",
    "    collist=list(df.columns)\n",
    "    return_json=\"\"\n",
    "    for colname in collist:\n",
    "        stepjson=\"export var {}={}; \".format(colname, list(df[colname]))\n",
    "        return_json=return_json+stepjson\n",
    "    return return_json\n",
    "\n",
    "def sql_to_js_file(query,filepath):\n",
    "    import pandas as pd\n",
    "    import numpy as np\n",
    "    from sqlalchemy import create_engine\n",
    "    alchemyEngine=create_engine('postgresql://desmondmolloy:@127.0.0.1', pool_recycle=3600);\n",
    "    dbConnection=alchemyEngine.connect()\n",
    "    df=pd.read_sql(query, dbConnection)\n",
    "    myjsobject=column_outwriter(df)\n",
    "    text_file = open(filepath, \"wt\")\n",
    "    n = text_file.write(myjsobject)\n",
    "    text_file.close()\n"
   ]
  },
  {
   "cell_type": "code",
   "execution_count": 4,
   "id": "dying-yugoslavia",
   "metadata": {},
   "outputs": [],
   "source": [
    "sql_to_js_file(\"WITH overtime_count AS(SELECT COUNT(*) as total_overdue, neighborhood AS overdue_neighborhood FROM service_requests WHERE ontime='OVERDUE' GROUP BY neighborhood), \\\n",
    "full_count AS(SELECT COUNT(*) AS total, neighborhood FROM service_requests GROUP BY neighborhood), \\\n",
    "united_table AS (SELECT * FROM overtime_count \\\n",
    "LEFT JOIN full_count ON overtime_count.overdue_neighborhood=full_count.neighborhood) \\\n",
    "SELECT neighborhood, total_overdue*total/POWER(total,2) AS percent_overdue FROM united_table WHERE total is not null ORDER BY percent_overdue DESC;\",\"src/data/overdue_percent.js\")\n",
    "sql_to_js_file(\"WITH cte AS(SELECT DATE_PART('day', closed_dt - open_dt) AS duration, neighborhood FROM service_requests WHERE closed_dt IS NOT NULL) \\\n",
    "SELECT AVG(duration) AS neighborhood_mean, neighborhood AS neighborhood_for_time FROM cte WHERE neighborhood IS NOT NULL GROUP BY neighborhood ORDER BY neighborhood_mean DESC;\",\"src/data/response_time.js\")"
   ]
  },
  {
   "cell_type": "code",
   "execution_count": null,
   "id": "extra-shelf",
   "metadata": {},
   "outputs": [],
   "source": []
  }
 ],
 "metadata": {
  "kernelspec": {
   "display_name": "Python 3",
   "language": "python",
   "name": "python3"
  },
  "language_info": {
   "codemirror_mode": {
    "name": "ipython",
    "version": 3
   },
   "file_extension": ".py",
   "mimetype": "text/x-python",
   "name": "python",
   "nbconvert_exporter": "python",
   "pygments_lexer": "ipython3",
   "version": "3.8.5"
  }
 },
 "nbformat": 4,
 "nbformat_minor": 5
}
